{
 "cells": [
  {
   "cell_type": "markdown",
   "metadata": {
    "nbpresent": {
     "id": "6771967c-15c3-40a3-8c6a-f6cca284a95c"
    },
    "slideshow": {
     "slide_type": "slide"
    }
   },
   "source": [
    "# cube - Erste Schritte mit jupyter und openCV3"
   ]
  },
  {
   "cell_type": "markdown",
   "metadata": {
    "nbpresent": {
     "id": "bc6ddd70-7ef3-447e-88ea-59531971f568"
    },
    "slideshow": {
     "slide_type": "subslide"
    }
   },
   "source": [
    "Irgendwie wurde es mal Zeit, daß ich mich mit der Verarbeitung von Bildern im Computer jenseits von Gimp und Photoshop beschäftige. Besonders klar wurde mir das, als ich für eine Installation die Kamera und das Infrarotfilter recherchiert und schließlich eine recht aufwändige Hardware angefertigt habe: http://www.bautzner-strasse-dresden.de/neu/ausstellungen.html Doch was ist mit der Software? Diese ist das Werk von http://frauzufall.de Davon verstand ich überhaupt nichts. Und dabei sollte es aber nicht ganz bleiben. Ich wollte mehr darüber wissen, wie Computer, also Maschinen sehen können. Und außerdem war da in meinem Kopf noch so ne alte Idee. Man müsste mal....\n",
    "Ehrlichgesagt hab ich nicht daran geglaubt, dass ich das jemals umsetzten würde. Aber dann war es erstaunlich leicht. \n",
    "\n",
    "Meine ersten Anlaufpunkte waren Python3(der Kleber), numpy(der virtuelle Quader) und openCV3(Die riesige Bildverarbeitungsmaschinerie für C++, Java, Python, die ich dafür nur angekratzt habe). Und jupyter. Das ist eine clevere IDE um zu bauen, zu testen und zu teilen. Leider ist openCV3 noch nicht Teil der direkt verfügbaren Pakete in conda. \n",
    "So hat die Installation bei mir funktioniert:\n",
    "\n",
    "Ich hab pip aktualisiert, die Eingabeaufforderung auch schön mit rechter Maus gestartet (mit Admin-rechten!).\n",
    "bei Michael Hirsch fand ich eine gute Anleitung "
   ]
  },
  {
   "cell_type": "markdown",
   "metadata": {
    "nbpresent": {
     "id": "5dc2b173-70c7-4dfa-aab7-965f0ff85807"
    }
   },
   "source": [
    "#### https://www.scivision.co/install-opencv-python-windows/"
   ]
  },
  {
   "cell_type": "markdown",
   "metadata": {
    "nbpresent": {
     "id": "bc75bf8d-eb1e-417e-851b-6e85db2bd48b"
    },
    "slideshow": {
     "slide_type": "subslide"
    }
   },
   "source": [
    "Das hat auf Anhieb gut funktioniert. Beide Kameras meines Tablets konnten sofort genutzt werden, nur schien der Videoencoder ein Problem mit schwarz-weiss Frames zu haben. Ich hab endlich cv2.cvtColor gegoogled und bin sofort auf \"OpenCV: Changing Colorspaces gestoßen\" \n",
    "Eine erster Anlaufpunkt mit einer sehr guten Dokumentation ist hier: http://docs.opencv.org/ \n",
    "Ich hab mich sehr eng an den Beispielen von 3.2.0 orientiert. Hier ist alles knapp und übersichtlich erklärt.\n",
    "Fehlt noch ne gute Erklärung zu numpy Arrays. Die fand ich bei Wes McKinney. Und bei Leo Chin und Tanmay Dutta.(PACKT) Ich staune. Doch nun zum inhaltlichen. Was soll das?"
   ]
  },
  {
   "cell_type": "markdown",
   "metadata": {
    "nbpresent": {
     "id": "6e73c4b8-89ca-4943-86e5-fe34051b0f62"
    },
    "slideshow": {
     "slide_type": "slide"
    }
   },
   "source": [
    "# cube -  Ein sehr interessanter virtueller Körper"
   ]
  },
  {
   "cell_type": "markdown",
   "metadata": {},
   "source": [
    "####    Wie würde eine Welt aussehen, in der Zeit keine Rolle spielt, weil jede Zeit direkt zugänglich ist?\n",
    "####    Wie sieht Zeit aus, wenn man sie von oben betrachtet?\n",
    "####    Was bedeutet überhaupt Raumzeit?\n",
    "####    Was ist, wenn man die Scalen für Raum und Zeit miteinander vertauscht?\n",
    "#  Hab ich das schonmal gesehen?"
   ]
  },
  {
   "cell_type": "markdown",
   "metadata": {
    "nbpresent": {
     "id": "d1c9eeff-6ab4-43f1-b269-bb821d79d4b3"
    },
    "slideshow": {
     "slide_type": "subslide"
    }
   },
   "source": [
    "cube ist eine Versuchsanordnung, eine flache Welt, deren Zeiten alle zugänglich sind. Doch cube ist nicht real. Es existiert nur als Bereich im Arbeitsspeicher des Computers. cube ist ein numpy-3D-Array mit den Abmessungen (480x640x640)x8Bit. Dieses Array enthält 640 chronologische, fortlaufend aktualisierte schwarz-weiss Frames der bevorzugten bordeigenen Kamera. So entsteht ein Quader. Die 3Dimensionen entsprechen Höhe, Breite und Zeit (y,x,t)\n",
    "Das Tolle ist, dass man sich diesen Quader von verschiedenen Seiten anschauen kann."
   ]
  },
  {
   "cell_type": "markdown",
   "metadata": {
    "nbpresent": {
     "id": "3fb9a7c9-d151-415e-97ec-ee47308e66dc"
    }
   },
   "source": [
    "# Denn ein Pixel interessiert nicht, von welcher Seite man es betrachtet."
   ]
  },
  {
   "cell_type": "markdown",
   "metadata": {
    "nbpresent": {
     "id": "02316602-eba3-4584-abcf-3738a1585a90"
    },
    "slideshow": {
     "slide_type": "subslide"
    }
   },
   "source": [
    "Der unten abgebildete Code erzeugt 2 Videofenster. Die Fenster stellen 2Projektionen des Quaders dar:\n",
    "\n",
    "1.) Wir sehen alle x und y und was als Film abläuft ist die Zeit (ein ganz normaler Film also, so wie gewohnt).\n",
    "\n",
    "2.) Wir sehen alle Zeiten und y und was als Film abläuft ist x (das Gehirn tut weh, aber die Augen entspannen)"
   ]
  },
  {
   "cell_type": "code",
   "execution_count": null,
   "metadata": {},
   "outputs": [],
   "source": [
    "#GREY VERSION WITHOUT ROTATE\n",
    "import numpy as np\n",
    "import cv2\n",
    "#using frontCamera: source = 1\n",
    "#using file:        source = 'path.avi'\n",
    "source = 0    # backCamera\n",
    "camerastream = cv2.VideoCapture(source)\n",
    "#Define the codec and create VideoWriter object note: isColor is False for Gray\n",
    "fourcc = cv2.VideoWriter_fourcc(*'DIVX')\n",
    "out2stream = cv2.VideoWriter('out2.avi',fourcc, 20.0, (640,480), isColor = False)\n",
    "#build cube with (y,x,t)*8Bit\n",
    "cube = np.zeros((480,640,640),dtype = np.uint8)\n",
    "\n",
    "play_x_foreward = True\n",
    "rec_t = 0\n",
    "play_x = 0\n",
    "while True:\n",
    "    #take each frame from camerastream\n",
    "    _, orginalframe = camerastream.read() # \"_,\" häh ??? aber notwendig\n",
    "    #convert from BGR to GRAY\n",
    "    grayframe = cv2.cvtColor(orginalframe, cv2.COLOR_BGR2GRAY)\n",
    "    #load videoframe to 2D+TimeCube\n",
    "    cube[:,:,rec_t] = grayframe\n",
    "    #build outputframe use magic rolling view(y,t,x) is faster then cube = np.roll(cube,1,axis=2)\n",
    "    outputframe = np.concatenate([cube[:,play_x,rec_t:], cube[:,play_x,:rec_t]], axis=1)\n",
    "    \n",
    "    #calc next rec_t and play_x\n",
    "    rec_t += 1\n",
    "    if rec_t >= cube.shape[2]:\n",
    "        play_x_foreward = False\n",
    "        rec_t = 0\n",
    "        \n",
    "    if play_x_foreward == True:\n",
    "        play_x += 1\n",
    "    else: \n",
    "        play_x -= 1\n",
    "        \n",
    "    if play_x <= 0:\n",
    "        play_x_foreward = True\n",
    "        play_x = 0\n",
    "    \n",
    "    #show images in 2 windows (gray, output)\n",
    "    cv2.imshow('gray', grayframe)\n",
    "    cv2.imshow('output', outputframe)\n",
    "    \n",
    "    #write stream to .avi -file\n",
    "    out2stream.write(outputframe)\n",
    "    \n",
    "    #pause 1ms (wait for space-key (0 = endless, 1 = 1ms, 0xFF need only for 64Bit CPU)) \n",
    "    if cv2.waitKey(1) & 0xFF == ord(' '):\n",
    "        #for debug only\n",
    "        print(\"orginalframe.shape  .dtype:\",  orginalframe.shape,\"   \",orginalframe.dtype)\n",
    "        print(\"        cube.shape  .dtype:\",                    cube.shape,\" \",cube.dtype)\n",
    "        print(\" outputframe.shape  .dtype:\", outputframe.shape,\"      \",outputframe.dtype)\n",
    "        break\n",
    "\n",
    "# release everything if job is finished\n",
    "camerastream.release()\n",
    "out2stream.release()\n",
    "cv2.destroyAllWindows()"
   ]
  },
  {
   "cell_type": "code",
   "execution_count": 12,
   "metadata": {
    "nbpresent": {
     "id": "e576c288-dba0-4202-a191-cb55c0914113"
    },
    "scrolled": true,
    "slideshow": {
     "slide_type": "slide"
    }
   },
   "outputs": [
    {
     "name": "stdout",
     "output_type": "stream",
     "text": [
      "orginalframe.shape  .dtype: (480, 640, 3)     uint8\n",
      "        cube.shape  .dtype: (480, 640, 640)   uint8\n",
      " outputframe.shape  .dtype: (480, 640)        uint8\n"
     ]
    }
   ],
   "source": [
    "#GREY VERSION WITH ROTATE\n",
    "import numpy as np\n",
    "import cv2\n",
    "#using frontCamera: source = 1\n",
    "#using file:        source = 'path.avi'\n",
    "source = 0    # backCamera\n",
    "camerastream = cv2.VideoCapture(source)\n",
    "#Define the codec and create VideoWriter object note: isColor is False for Gray\n",
    "fourcc = cv2.VideoWriter_fourcc(*'DIVX')\n",
    "out2stream = cv2.VideoWriter('out2.avi',fourcc, 20.0, (640,480), isColor = False)\n",
    "#build cube with (y,x,t)*8Bit\n",
    "cube = np.zeros((480,640,640),dtype = np.uint8)\n",
    "\n",
    "play_x_foreward = True\n",
    "rec_t = 0\n",
    "play_x = 0\n",
    "while True:\n",
    "    #take each frame from camerastream\n",
    "    _, orginalframe = camerastream.read() # \"_,\" häh ??? aber notwendig\n",
    "    #convert from BGR to GRAY\n",
    "    grayframe = cv2.cvtColor(orginalframe, cv2.COLOR_BGR2GRAY)\n",
    "    #load videoframe to 2D+TimeCube\n",
    "    cube[:,:,rec_t] = grayframe\n",
    "    #build outputframe use magic rolling view(y,t,x) is faster then cube = np.roll(cube,1,axis=2)\n",
    "    outputframe = np.concatenate([cube[:,play_x,rec_t:], cube[:,play_x,:rec_t]], axis=1)\n",
    "    \n",
    "    #calc next rec_t and play_x\n",
    "    rec_t += 1\n",
    "    if rec_t >= cube.shape[2]:\n",
    "        play_x_foreward = False\n",
    "        rec_t = 0\n",
    "        \n",
    "    if play_x_foreward == True:\n",
    "        play_x += 1\n",
    "    else: \n",
    "        play_x -= 1\n",
    "        \n",
    "    if play_x <= 0:\n",
    "        play_x_foreward = True\n",
    "        play_x = 0\n",
    "    \n",
    "    #rotate\n",
    "    grayframe90cw = cv2.rotate(grayframe, cv2.ROTATE_90_CLOCKWISE)\n",
    "    outputframe90cw = cv2.rotate(outputframe, cv2.ROTATE_90_CLOCKWISE)\n",
    "    #show images in 2 windows (gray, output)\n",
    "    cv2.imshow('gray', grayframe90cw)\n",
    "    cv2.imshow('output', outputframe90cw)\n",
    "    \n",
    "    #write stream to .avi -file\n",
    "    out2stream.write(outputframe)\n",
    "    \n",
    "    #pause 1ms (wait for space-key (0 = endless, 1 = 1ms, 0xFF need only for 64Bit CPU)) \n",
    "    if cv2.waitKey(1) & 0xFF == ord(' '):\n",
    "        #for debug only\n",
    "        print(\"orginalframe.shape  .dtype:\",  orginalframe.shape,\"   \",orginalframe.dtype)\n",
    "        print(\"        cube.shape  .dtype:\",                    cube.shape,\" \",cube.dtype)\n",
    "        print(\" outputframe.shape  .dtype:\", outputframe.shape,\"      \",outputframe.dtype)\n",
    "        break\n",
    "\n",
    "# release everything if job is finished\n",
    "camerastream.release()\n",
    "out2stream.release()\n",
    "cv2.destroyAllWindows()"
   ]
  },
  {
   "cell_type": "code",
   "execution_count": 1,
   "metadata": {},
   "outputs": [
    {
     "name": "stdout",
     "output_type": "stream",
     "text": [
      "       frame.shape  .dtype: (480, 640, 3)         uint8\n",
      "        cube.shape  .dtype: (480, 640, 640, 3)    uint8\n",
      " outputframe.shape  .dtype: (480, 640, 3)         uint8\n"
     ]
    }
   ],
   "source": [
    "# COLOR VERSION WITH ROTATE\n",
    "import numpy as np\n",
    "import cv2\n",
    "#using frontCamera: source = 1\n",
    "#using file:        source = 'path.avi'\n",
    "source = 0    # backCamera\n",
    "camerastream = cv2.VideoCapture(source)\n",
    "#Define the codec and create VideoWriter object note: isColor is True\n",
    "fourcc = cv2.VideoWriter_fourcc(*'DIVX')\n",
    "out2stream = cv2.VideoWriter('out2.avi',fourcc, 20.0, (640,480), isColor = True)\n",
    "#build cube with (y,x,t)*3*8Bit\n",
    "cube = np.zeros((480,640,640,3),dtype = np.uint8)\n",
    "\n",
    "play_x_foreward = True\n",
    "rec_t = 0\n",
    "play_x = 0\n",
    "while True:\n",
    "    #take each frame from camerastream\n",
    "    _, frame = camerastream.read() # \"_,\" häh ??? aber notwendig\n",
    "    #load videoframe to 2D+TimeCube\n",
    "    cube[:,:,rec_t,:] = frame\n",
    "    #build outputframe use magic rolling view(y,t,x) is faster then cube = np.roll(cube,1,axis=2)\n",
    "    outputframe = np.concatenate([cube[:,play_x,rec_t:,:], cube[:,play_x,:rec_t,:]], axis=1)\n",
    "    \n",
    "    #calc next rec_t and play_x\n",
    "    rec_t += 1\n",
    "    if rec_t >= cube.shape[2]:\n",
    "        play_x_foreward = False\n",
    "        rec_t = 0\n",
    "        \n",
    "    if play_x_foreward == True:\n",
    "        play_x += 1\n",
    "    else: \n",
    "        play_x -= 1\n",
    "        \n",
    "    if play_x <= 0:\n",
    "        play_x_foreward = True\n",
    "        play_x = 0\n",
    "    \n",
    "    #rotate\n",
    "    frame90cw = cv2.rotate(frame, cv2.ROTATE_90_CLOCKWISE)\n",
    "    outputframe90cw = cv2.rotate(outputframe, cv2.ROTATE_90_CLOCKWISE)\n",
    "    #show images in 2 windows (gray, output)\n",
    "    cv2.imshow('input', frame90cw)\n",
    "    cv2.imshow('output', outputframe90cw)\n",
    "    \n",
    "    #write stream to .avi -file\n",
    "    out2stream.write(outputframe)\n",
    "    \n",
    "    #pause 1ms (wait for space-key (0 = endless, 1 = 1ms, 0xFF need only for 64Bit CPU)) \n",
    "    if cv2.waitKey(1) & 0xFF == ord(' '):\n",
    "        #for debug only\n",
    "        print(\"       frame.shape  .dtype:\",frame.shape,      \"       \",frame.dtype)\n",
    "        print(\"        cube.shape  .dtype:\",cube.shape,       \"  \",cube.dtype)\n",
    "        print(\" outputframe.shape  .dtype:\",outputframe.shape,\"       \",outputframe.dtype)\n",
    "        break\n",
    "\n",
    "# release everything if job is finished\n",
    "camerastream.release()\n",
    "out2stream.release()\n",
    "cv2.destroyAllWindows()"
   ]
  },
  {
   "cell_type": "markdown",
   "metadata": {
    "collapsed": true,
    "nbpresent": {
     "id": "2b97ed26-9dd0-4124-a81c-0141a6bd7166"
    }
   },
   "source": [
    "# Wie würde das mechanisch aussehen, wenn man es in einer Werkstatt anfertigt?"
   ]
  },
  {
   "cell_type": "markdown",
   "metadata": {
    "nbpresent": {
     "id": "7b518066-0373-4266-bd55-7c526799ba2d"
    },
    "slideshow": {
     "slide_type": "slide"
    }
   },
   "source": [
    "Leider hab ich da noch keine Idee. Soetwas scheint nur in diesem virtuellen Quader möglich zu sein. Jedoch sinngemäß funktioniert das wie bei einem Daumenkino. Wir stellen uns mal vor, dass wir fleissig waren und auf so einen Bürowürfel voller Klebezettel einen ganzen Trickfilm gepinselt haben. Zum Angucken können wir die Blätter am Daumen vorbeirutschen lassen...soweit kennen wir das. Aber jetzt drehen wir den Würfel mal um 90Grad und schauen ihn uns von der Seite an. Wir sehen vielleicht etwas Bleistift, wenn wir in der Eile beim Zeichnen über den Rand des Papiers hinaus gemalt haben. Wenn wir aber Schicht für Schicht den Würfel abhobeln würden, dann sähen wir das: (Den dabei entstehenden Film zeichnet der Code auch als out2.avi auf.) Genaugenommen pendelt der Film beim Angucken auf der x-Achse hin und her."
   ]
  },
  {
   "cell_type": "markdown",
   "metadata": {},
   "source": [
    "Es gibt aber auch noch andere Anordnungen, in denen ein Zeitausschnitt als Ganzes abgebildet wird. Nur eben nicht 3-dimensional wie in cube:"
   ]
  },
  {
   "cell_type": "markdown",
   "metadata": {},
   "source": [
    "#### #Schlitzverschluss\n",
    "#### #Scannerkamera\n",
    "#### #Slitcam\n",
    "#### #Oszilloscope"
   ]
  }
 ],
 "metadata": {
  "anaconda-cloud": {
   "attach-environment": true,
   "summary": "jupyter Anaconda and openCV3 made cube",
   "url": "https://anaconda.org/25mmhg/timecube_480x640x640x8"
  },
  "environment": {
   "channels": [
    "menpo",
    "defaults"
   ],
   "dependencies": [
    "_license=1.1=py35_1",
    "_nb_ext_conf=0.3.0=py35_0",
    "alabaster=0.7.9=py35_0",
    "anaconda-clean=1.0.0=py35_0",
    "anaconda-client=1.5.1=py35_0",
    "anaconda-navigator=1.3.1=py35_0",
    "anaconda=4.2.0=np111py35_0",
    "argcomplete=1.0.0=py35_1",
    "astroid=1.4.7=py35_0",
    "astropy=1.2.1=np111py35_0",
    "babel=2.3.4=py35_0",
    "backports=1.0=py35_0",
    "beautifulsoup4=4.5.1=py35_0",
    "bitarray=0.8.1=py35_1",
    "blaze=0.10.1=py35_0",
    "bokeh=0.12.2=py35_0",
    "boto=2.42.0=py35_0",
    "bottleneck=1.1.0=np111py35_0",
    "bzip2=1.0.6=vc14_3",
    "cffi=1.7.0=py35_0",
    "chest=0.2.3=py35_0",
    "click=6.6=py35_0",
    "cloudpickle=0.2.1=py35_0",
    "clyent=1.2.2=py35_0",
    "colorama=0.3.7=py35_0",
    "comtypes=1.1.2=py35_0",
    "conda-build=2.0.2=py35_0",
    "conda-env=2.6.0=0",
    "conda=4.3.8=py35_0",
    "configobj=5.0.6=py35_0",
    "console_shortcut=0.1.1=py35_1",
    "contextlib2=0.5.3=py35_0",
    "cryptography=1.5=py35_0",
    "curl=7.49.0=vc14_0",
    "cycler=0.10.0=py35_0",
    "cython=0.24.1=py35_0",
    "cytoolz=0.8.0=py35_0",
    "dask=0.11.0=py35_0",
    "datashape=0.5.2=py35_0",
    "decorator=4.0.10=py35_0",
    "dill=0.2.5=py35_0",
    "docutils=0.12=py35_2",
    "dynd-python=0.7.2=py35_0",
    "entrypoints=0.2.2=py35_0",
    "et_xmlfile=1.0.1=py35_0",
    "fastcache=1.0.2=py35_1",
    "filelock=2.0.6=py35_0",
    "flask-cors=2.1.2=py35_0",
    "flask=0.11.1=py35_0",
    "freetype=2.5.5=vc14_1",
    "get_terminal_size=1.0.0=py35_0",
    "gevent=1.1.2=py35_0",
    "greenlet=0.4.10=py35_0",
    "h5py=2.6.0=np111py35_2",
    "hdf5=1.8.15.1=vc14_4",
    "heapdict=1.0.0=py35_1",
    "icu=57.1=vc14_0",
    "idna=2.1=py35_0",
    "imagesize=0.7.1=py35_0",
    "ipykernel=4.5.0=py35_0",
    "ipython=5.1.0=py35_0",
    "ipython_genutils=0.1.0=py35_0",
    "ipywidgets=5.2.2=py35_0",
    "itsdangerous=0.24=py35_0",
    "jdcal=1.2=py35_1",
    "jedi=0.9.0=py35_1",
    "jinja2=2.8=py35_1",
    "jpeg=8d=vc14_2",
    "jsonschema=2.5.1=py35_0",
    "jupyter=1.0.0=py35_3",
    "jupyter_client=4.4.0=py35_0",
    "jupyter_console=5.0.0=py35_0",
    "jupyter_core=4.2.0=py35_0",
    "lazy-object-proxy=1.2.1=py35_0",
    "libdynd=0.7.2=0",
    "libpng=1.6.22=vc14_0",
    "libtiff=4.0.6=vc14_2",
    "llvmlite=0.13.0=py35_0",
    "locket=0.2.0=py35_1",
    "lxml=3.6.4=py35_0",
    "markupsafe=0.23=py35_2",
    "matplotlib=1.5.3=np111py35_0",
    "menuinst=1.4.1=py35_0",
    "mistune=0.7.3=py35_0",
    "mkl-service=1.1.2=py35_2",
    "mkl=11.3.3=1",
    "mpmath=0.19=py35_1",
    "multipledispatch=0.4.8=py35_0",
    "nb_anacondacloud=1.2.0=py35_0",
    "nb_conda=2.0.0=py35_0",
    "nb_conda_kernels=2.0.0=py35_0",
    "nbconvert=4.2.0=py35_0",
    "nbformat=4.1.0=py35_0",
    "nbpresent=3.0.2=py35_0",
    "networkx=1.11=py35_0",
    "nltk=3.2.1=py35_0",
    "nose=1.3.7=py35_1",
    "notebook=4.2.3=py35_0",
    "numba=0.28.1=np111py35_0",
    "numexpr=2.6.1=np111py35_0",
    "numpy=1.11.1=py35_1",
    "odo=0.5.0=py35_1",
    "opencv3=3.1.0=py35_0",
    "openpyxl=2.3.2=py35_0",
    "openssl=1.0.2j=vc14_0",
    "pandas=0.18.1=np111py35_0",
    "partd=0.3.6=py35_0",
    "path.py=8.2.1=py35_0",
    "pathlib2=2.1.0=py35_0",
    "patsy=0.4.1=py35_0",
    "pep8=1.7.0=py35_0",
    "pickleshare=0.7.4=py35_0",
    "pillow=3.3.1=py35_0",
    "pip=8.1.2=py35_0",
    "pkginfo=1.3.2=py35_0",
    "ply=3.9=py35_0",
    "prompt_toolkit=1.0.3=py35_0",
    "psutil=4.3.1=py35_0",
    "py=1.4.31=py35_0",
    "pyasn1=0.1.9=py35_0",
    "pycosat=0.6.1=py35_1",
    "pycparser=2.14=py35_1",
    "pycrypto=2.6.1=py35_4",
    "pycurl=7.43.0=py35_0",
    "pyflakes=1.3.0=py35_0",
    "pygments=2.1.3=py35_0",
    "pylint=1.5.4=py35_1",
    "pyopenssl=16.2.0=py35_0",
    "pyparsing=2.1.4=py35_0",
    "pyqt=5.6.0=py35_0",
    "pytables=3.2.2=np111py35_4",
    "pytest=2.9.2=py35_0",
    "python-dateutil=2.5.3=py35_0",
    "python=3.5.2=0",
    "pytz=2016.6.1=py35_0",
    "pywin32=220=py35_1",
    "pyyaml=3.12=py35_0",
    "pyzmq=15.4.0=py35_0",
    "qt=5.6.0=vc14_0",
    "qtawesome=0.3.3=py35_0",
    "qtconsole=4.2.1=py35_2",
    "qtpy=1.1.2=py35_0",
    "requests=2.12.4=py35_0",
    "rope=0.9.4=py35_1",
    "ruamel_yaml=0.11.14=py35_0",
    "scikit-image=0.12.3=np111py35_1",
    "scikit-learn=0.17.1=np111py35_1",
    "scipy=0.18.1=np111py35_0",
    "setuptools=27.2.0=py35_1",
    "simplegeneric=0.8.1=py35_1",
    "singledispatch=3.4.0.3=py35_0",
    "sip=4.18=py35_0",
    "six=1.10.0=py35_0",
    "snowballstemmer=1.2.1=py35_0",
    "sockjs-tornado=1.0.3=py35_0",
    "sphinx=1.4.6=py35_0",
    "spyder=3.0.0=py35_0",
    "sqlalchemy=1.0.13=py35_0",
    "statsmodels=0.6.1=np111py35_1",
    "sympy=1.0=py35_0",
    "tk=8.5.18=vc14_0",
    "toolz=0.8.0=py35_0",
    "tornado=4.4.1=py35_0",
    "traitlets=4.3.0=py35_0",
    "unicodecsv=0.14.1=py35_0",
    "vs2015_runtime=14.0.25123=0",
    "wcwidth=0.1.7=py35_0",
    "werkzeug=0.11.11=py35_0",
    "wheel=0.29.0=py35_0",
    "widgetsnbextension=1.2.6=py35_0",
    "win_unicode_console=0.5=py35_0",
    "wrapt=1.10.6=py35_0",
    "xlrd=1.0.0=py35_0",
    "xlsxwriter=0.9.3=py35_0",
    "xlwings=0.10.0=py35_0",
    "xlwt=1.1.2=py35_0",
    "zlib=1.2.8=vc14_3"
   ],
   "name": "notebook-timecube_480x640x640x8-ipynb"
  },
  "kernelspec": {
   "display_name": "Python 3",
   "language": "python",
   "name": "python3"
  },
  "language_info": {
   "codemirror_mode": {
    "name": "ipython",
    "version": 3
   },
   "file_extension": ".py",
   "mimetype": "text/x-python",
   "name": "python",
   "nbconvert_exporter": "python",
   "pygments_lexer": "ipython3",
   "version": "3.7.6"
  },
  "nbpresent": {
   "slides": {},
   "themes": {
    "default": "da9960e5-dfb5-47a3-87ca-ef28791f0f09",
    "theme": {
     "da9960e5-dfb5-47a3-87ca-ef28791f0f09": {
      "backgrounds": {
       "backgroundColor": {
        "background-color": "backgroundColor",
        "id": "backgroundColor"
       }
      },
      "id": "da9960e5-dfb5-47a3-87ca-ef28791f0f09",
      "palette": {
       "backgroundColor": {
        "id": "backgroundColor",
        "rgb": [
         43,
         43,
         43
        ]
       },
       "headingColor": {
        "id": "headingColor",
        "rgb": [
         238,
         238,
         238
        ]
       },
       "linkColor": {
        "id": "linkColor",
        "rgb": [
         19,
         218,
         236
        ]
       },
       "mainColor": {
        "id": "mainColor",
        "rgb": [
         238,
         238,
         238
        ]
       }
      },
      "rules": {
       "a": {
        "color": "linkColor"
       },
       "h1": {
        "color": "headingColor",
        "font-family": "Oswald",
        "font-size": 7
       },
       "h2": {
        "color": "headingColor",
        "font-family": "Oswald",
        "font-size": 5
       },
       "h3": {
        "color": "headingColor",
        "font-family": "Oswald",
        "font-size": 3.75
       },
       "h4": {
        "color": "headingColor",
        "font-family": "Oswald",
        "font-size": 3
       },
       "h5": {
        "color": "headingColor",
        "font-family": "Oswald"
       },
       "h6": {
        "color": "headingColor",
        "font-family": "Oswald"
       },
       "h7": {
        "color": "headingColor",
        "font-family": "Oswald"
       },
       "li": {
        "color": "mainColor",
        "font-family": "Lato",
        "font-size": 5
       },
       "p": {
        "color": "mainColor",
        "font-family": "Lato",
        "font-size": 5
       }
      },
      "text-base": {
       "color": "mainColor",
       "font-family": "Lato",
       "font-size": 5
      }
     }
    }
   }
  }
 },
 "nbformat": 4,
 "nbformat_minor": 1
}
